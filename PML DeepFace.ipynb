{
 "cells": [
  {
   "cell_type": "markdown",
   "id": "45d8d150",
   "metadata": {},
   "source": [
    "# Install Library DeepFace"
   ]
  },
  {
   "cell_type": "code",
   "execution_count": null,
   "id": "c0ba7210",
   "metadata": {
    "scrolled": true
   },
   "outputs": [],
   "source": [
    "pip install deepface"
   ]
  },
  {
   "cell_type": "markdown",
   "id": "9e91c34c",
   "metadata": {},
   "source": [
    "# Parameter Setting"
   ]
  },
  {
   "cell_type": "code",
   "execution_count": null,
   "id": "8879da31",
   "metadata": {},
   "outputs": [],
   "source": [
    "# Import\n",
    "from deepface import DeepFace\n",
    "import math\n",
    "from math import ceil\n",
    "import numpy as np\n",
    "import matplotlib.pyplot as plt\n",
    "from matplotlib.gridspec import GridSpec\n",
    "import cv2\n",
    "import os\n",
    "from IPython.display import display\n",
    "from PIL import Image\n",
    "import glob\n",
    "\n",
    "# FOLDER foto referensi dan test\n",
    "ref_path = \"referensi2\"\n",
    "test_path = \"test2\"\n",
    "ref = []\n",
    "test = []\n",
    "for filename in (glob.glob(ref_path + '/*.jpg') + glob.glob(ref_path + '/*.jpeg') + glob.glob(ref_path + '/*.png') + \n",
    "                 glob.glob(ref_path + '/*.jfif')):\n",
    "    ref.append(filename)\n",
    "for filename in (glob.glob(test_path + '/*.jpg') + glob.glob(test_path + '/*.jpeg') + glob.glob(test_path + '/*.png') + \n",
    "                 glob.glob(test_path + '/*.jfif')):\n",
    "    test.append(filename)\n",
    "\n",
    "# List Parameter\n",
    "models = [\"VGG-Face\", \"Facenet\", \"Facenet512\", \"OpenFace\", \"DeepFace\", \"DeepID\", \"ArcFace\", \"Dlib\", \"SFace\"]\n",
    "distances = [\"cosine\", \"euclidean\", \"euclidean_l2\"]\n",
    "backends = ['opencv', 'ssd', 'Dlib', 'mtcnn', 'retinaface', 'mediapipe']\n",
    "\n",
    "# Selected Parameter\n",
    "model = models[2]\n",
    "distance = distances[0]\n",
    "backend = backends[3]\n",
    "force_match = False\n",
    "#threshold = 0.45\n",
    "\n"
   ]
  },
  {
   "cell_type": "markdown",
   "id": "0b605b47",
   "metadata": {},
   "source": [
    "# Ringkasan File Foto Anggota Kelas"
   ]
  },
  {
   "cell_type": "code",
   "execution_count": null,
   "id": "004362a3",
   "metadata": {
    "scrolled": false
   },
   "outputs": [],
   "source": [
    "size = len(ref)\n",
    "cols = 5\n",
    "rows = ceil(size/5)\n",
    "i=0\n",
    "print(\"jumlah file foto anggota kelas: \", size)\n",
    "\n",
    "fig_ref = plt.figure(figsize=(50,100))\n",
    "plt.rcParams.update({'font.size': 35})\n",
    "\n",
    "for sumber in ref:\n",
    "    i = i + 1\n",
    "    fig_ref.add_subplot(rows, cols, i)\n",
    "    plt.xticks([])\n",
    "    plt.yticks([])\n",
    "    plt.grid(False)\n",
    "    plt.imshow(np.squeeze(plt.imread(sumber)), cmap=plt.cm.binary)\n",
    "    plt.xlabel(sumber)"
   ]
  },
  {
   "cell_type": "markdown",
   "id": "974ecabb",
   "metadata": {},
   "source": [
    "# Ringkasan File Gambar Test"
   ]
  },
  {
   "cell_type": "code",
   "execution_count": null,
   "id": "0dcb3bb7",
   "metadata": {
    "scrolled": false
   },
   "outputs": [],
   "source": [
    "size = len(test)\n",
    "cols = 5\n",
    "rows = ceil(size/5)\n",
    "i=0\n",
    "print(\"jumlah file test: \", size)\n",
    "\n",
    "fig_test = plt.figure(figsize=(50,100))\n",
    "plt.rcParams.update({'font.size': 35})\n",
    "\n",
    "for tujuan in test:\n",
    "    i = i + 1\n",
    "    fig_test.add_subplot(rows, cols, i)\n",
    "    plt.xticks([])\n",
    "    plt.yticks([])\n",
    "    plt.grid(False)\n",
    "    plt.imshow(np.squeeze(plt.imread(tujuan)), cmap=plt.cm.binary)\n",
    "    plt.xlabel(os.path.basename(tujuan))"
   ]
  },
  {
   "cell_type": "markdown",
   "id": "4b9b3741",
   "metadata": {},
   "source": [
    "# Menjalankan fungsi find dengan konfigurasi tertentu untuk setiap sumber data "
   ]
  },
  {
   "cell_type": "code",
   "execution_count": null,
   "id": "2ac83830",
   "metadata": {
    "scrolled": false
   },
   "outputs": [],
   "source": [
    "# Deklarasi Array\n",
    "arrsumber = []\n",
    "arrsumbertext = []\n",
    "arrtujuan = []\n",
    "arrtujuantext = []\n",
    "arrhasil = []\n",
    "\n",
    "# Numbering Counter\n",
    "i = 0\n",
    "\n",
    "# Loop Matching Setiap File Referensi ke Semua File Test\n",
    "for sumber in test:\n",
    "    match = DeepFace.find(img_path = sumber, db_path = ref_path, enforce_detection = force_match, model_name = model, \n",
    "                          distance_metric = distance, detector_backend = backend)\n",
    "    \n",
    "    # Breakdown Hasil Matching\n",
    "    i+=1\n",
    "    arrsumber.append(cv2.cvtColor(cv2.imread(sumber, cv2.IMREAD_COLOR), cv2.COLOR_BGR2RGB))\n",
    "    arrsumbertext.append(sumber)\n",
    "    \n",
    "    if match.size > 0:\n",
    "        arrtujuan.append(cv2.cvtColor(cv2.imread(match[\"identity\"][0], cv2.IMREAD_COLOR), cv2.COLOR_BGR2RGB))\n",
    "        arrtujuantext.append(match[\"identity\"][0])\n",
    "        arrhasil.append(\"MATCH\")\n",
    "    else:\n",
    "        arrtujuan.append(np.zeros((100,100,3), np.uint8))\n",
    "        arrtujuantext.append(\"UNKNOWN\")\n",
    "        arrhasil.append(\"UNMATCH\")"
   ]
  },
  {
   "cell_type": "markdown",
   "id": "ee5d879a",
   "metadata": {},
   "source": [
    "# Menampilkan hasil matching wajah untuk setiap foto di folder \"test\""
   ]
  },
  {
   "cell_type": "code",
   "execution_count": null,
   "id": "54076211",
   "metadata": {
    "scrolled": false
   },
   "outputs": [],
   "source": [
    "rows = i\n",
    "columns = 3\n",
    "fig = plt.figure(figsize=(30, 400))\n",
    "plt.rcParams.update({'font.size': 30})\n",
    "\n",
    "for x in range(rows):\n",
    "    fig.add_subplot(rows,columns,x*3+1)\n",
    "    plt.imshow(arrsumber[x])\n",
    "    plt.xlabel(arrsumbertext[x])\n",
    "    plt.xticks([])\n",
    "    plt.yticks([])\n",
    "\n",
    "    fig.add_subplot(rows,columns,x*3+2)\n",
    "    plt.text(0.5, 0.5, arrhasil[x], ha='center', va='center')\n",
    "    plt.axis('off')\n",
    "\n",
    "    fig.add_subplot(rows,columns,x*3+3)\n",
    "    plt.imshow(arrtujuan[x])\n",
    "    plt.xlabel(arrtujuantext[x])\n",
    "    plt.xticks([])\n",
    "    plt.yticks([])\n",
    "\n",
    "print (\"model: \", model)\n",
    "print (\"distance: \", distance)\n",
    "print (\"backend: \", backend)\n",
    "plt.show()  "
   ]
  }
 ],
 "metadata": {
  "kernelspec": {
   "display_name": "Python 3 (ipykernel)",
   "language": "python",
   "name": "python3"
  },
  "language_info": {
   "codemirror_mode": {
    "name": "ipython",
    "version": 3
   },
   "file_extension": ".py",
   "mimetype": "text/x-python",
   "name": "python",
   "nbconvert_exporter": "python",
   "pygments_lexer": "ipython3",
   "version": "3.9.5"
  }
 },
 "nbformat": 4,
 "nbformat_minor": 5
}
